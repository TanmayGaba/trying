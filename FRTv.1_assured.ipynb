{
 "cells": [
  {
   "cell_type": "code",
   "execution_count": 1,
   "id": "60d9f531",
   "metadata": {
    "scrolled": true
   },
   "outputs": [],
   "source": [
    "# import pandas as pd\n",
    "# data = pd.read_excel(r'C:\\Users\\Tanmay Gaba\\Downloads\\report1676352877048.xlsx')"
   ]
  },
  {
   "cell_type": "code",
   "execution_count": 2,
   "id": "364fc910",
   "metadata": {},
   "outputs": [],
   "source": [
    "# pd.read_csv('ml-100k/u.item', sep='|', names=m_cols , encoding='latin-1')"
   ]
  },
  {
   "cell_type": "code",
   "execution_count": 3,
   "id": "0cb7a7d0",
   "metadata": {
    "scrolled": true
   },
   "outputs": [],
   "source": [
    "import pandas as pd\n",
    "data = pd.read_csv(r'C:\\Users\\Tanmay Gaba\\Downloads\\report1680329948807.csv',encoding='latin-1')"
   ]
  },
  {
   "cell_type": "code",
   "execution_count": 4,
   "id": "15d8e039",
   "metadata": {},
   "outputs": [],
   "source": [
    "# data.drop(data.columns[[18, 19, 20,22,23]], axis = 1, inplace = True)"
   ]
  },
  {
   "cell_type": "code",
   "execution_count": 5,
   "id": "c166dfb7",
   "metadata": {},
   "outputs": [
    {
     "data": {
      "text/html": [
       "<div>\n",
       "<style scoped>\n",
       "    .dataframe tbody tr th:only-of-type {\n",
       "        vertical-align: middle;\n",
       "    }\n",
       "\n",
       "    .dataframe tbody tr th {\n",
       "        vertical-align: top;\n",
       "    }\n",
       "\n",
       "    .dataframe thead th {\n",
       "        text-align: right;\n",
       "    }\n",
       "</style>\n",
       "<table border=\"1\" class=\"dataframe\">\n",
       "  <thead>\n",
       "    <tr style=\"text-align: right;\">\n",
       "      <th></th>\n",
       "      <th>Date/Time Opened</th>\n",
       "      <th>Ticket Number</th>\n",
       "      <th>Edited By</th>\n",
       "      <th>Field / Event</th>\n",
       "      <th>Old Value</th>\n",
       "      <th>New Value</th>\n",
       "      <th>Edit Date</th>\n",
       "      <th>Ticket Owner</th>\n",
       "      <th>Ticket Origin</th>\n",
       "    </tr>\n",
       "  </thead>\n",
       "  <tbody>\n",
       "    <tr>\n",
       "      <th>0</th>\n",
       "      <td>01/01/2023, 9:53 am</td>\n",
       "      <td>819951</td>\n",
       "      <td>Ankit</td>\n",
       "      <td>Ticket Owner</td>\n",
       "      <td>VOC Queue (Truebil)</td>\n",
       "      <td>Ankit</td>\n",
       "      <td>01/01/2023, 9:53 am</td>\n",
       "      <td>Vikas Gupta</td>\n",
       "      <td>VOC Queue (Truebil)</td>\n",
       "    </tr>\n",
       "    <tr>\n",
       "      <th>1</th>\n",
       "      <td>20/01/2023, 6:14 pm</td>\n",
       "      <td>865408</td>\n",
       "      <td>Vikas Gupta</td>\n",
       "      <td>Dispositions</td>\n",
       "      <td>Repair in process at WS</td>\n",
       "      <td>Part ordered</td>\n",
       "      <td>21/01/2023, 6:39 pm</td>\n",
       "      <td>Vikas Gupta</td>\n",
       "      <td>VOC Queue (Truebil)</td>\n",
       "    </tr>\n",
       "  </tbody>\n",
       "</table>\n",
       "</div>"
      ],
      "text/plain": [
       "      Date/Time Opened  Ticket Number    Edited By Field / Event  \\\n",
       "0  01/01/2023, 9:53 am         819951        Ankit  Ticket Owner   \n",
       "1  20/01/2023, 6:14 pm         865408  Vikas Gupta  Dispositions   \n",
       "\n",
       "                 Old Value     New Value            Edit Date Ticket Owner  \\\n",
       "0      VOC Queue (Truebil)         Ankit  01/01/2023, 9:53 am  Vikas Gupta   \n",
       "1  Repair in process at WS  Part ordered  21/01/2023, 6:39 pm  Vikas Gupta   \n",
       "\n",
       "         Ticket Origin  \n",
       "0  VOC Queue (Truebil)  \n",
       "1  VOC Queue (Truebil)  "
      ]
     },
     "execution_count": 5,
     "metadata": {},
     "output_type": "execute_result"
    }
   ],
   "source": [
    "data.head(2)"
   ]
  },
  {
   "cell_type": "code",
   "execution_count": 6,
   "id": "bbf0aa33",
   "metadata": {},
   "outputs": [],
   "source": [
    "data = data.fillna('')"
   ]
  },
  {
   "cell_type": "code",
   "execution_count": 7,
   "id": "6d484783",
   "metadata": {},
   "outputs": [
    {
     "data": {
      "text/plain": [
       "(35098, 9)"
      ]
     },
     "execution_count": 7,
     "metadata": {},
     "output_type": "execute_result"
    }
   ],
   "source": [
    "data.shape"
   ]
  },
  {
   "cell_type": "code",
   "execution_count": 8,
   "id": "e5bf9563",
   "metadata": {},
   "outputs": [
    {
     "data": {
      "text/plain": [
       "Index(['Date/Time Opened', 'Ticket Number', 'Edited By', 'Field / Event',\n",
       "       'Old Value', 'New Value', 'Edit Date', 'Ticket Owner', 'Ticket Origin'],\n",
       "      dtype='object')"
      ]
     },
     "execution_count": 8,
     "metadata": {},
     "output_type": "execute_result"
    }
   ],
   "source": [
    "data.columns"
   ]
  },
  {
   "cell_type": "code",
   "execution_count": 9,
   "id": "415fae32",
   "metadata": {},
   "outputs": [
    {
     "data": {
      "text/plain": [
       "dtype('O')"
      ]
     },
     "execution_count": 9,
     "metadata": {},
     "output_type": "execute_result"
    }
   ],
   "source": [
    "data['Date/Time Opened'].dtype"
   ]
  },
  {
   "cell_type": "code",
   "execution_count": 10,
   "id": "805db394",
   "metadata": {
    "scrolled": true
   },
   "outputs": [
    {
     "data": {
      "text/html": [
       "<div>\n",
       "<style scoped>\n",
       "    .dataframe tbody tr th:only-of-type {\n",
       "        vertical-align: middle;\n",
       "    }\n",
       "\n",
       "    .dataframe tbody tr th {\n",
       "        vertical-align: top;\n",
       "    }\n",
       "\n",
       "    .dataframe thead th {\n",
       "        text-align: right;\n",
       "    }\n",
       "</style>\n",
       "<table border=\"1\" class=\"dataframe\">\n",
       "  <thead>\n",
       "    <tr style=\"text-align: right;\">\n",
       "      <th></th>\n",
       "      <th>Date/Time Opened</th>\n",
       "      <th>Ticket Number</th>\n",
       "      <th>Edited By</th>\n",
       "      <th>Field / Event</th>\n",
       "      <th>Old Value</th>\n",
       "      <th>New Value</th>\n",
       "      <th>Edit Date</th>\n",
       "      <th>Ticket Owner</th>\n",
       "      <th>Ticket Origin</th>\n",
       "    </tr>\n",
       "  </thead>\n",
       "  <tbody>\n",
       "    <tr>\n",
       "      <th>0</th>\n",
       "      <td>01/01/2023, 9:53 am</td>\n",
       "      <td>819951</td>\n",
       "      <td>Ankit</td>\n",
       "      <td>Ticket Owner</td>\n",
       "      <td>VOC Queue (Truebil)</td>\n",
       "      <td>Ankit</td>\n",
       "      <td>01/01/2023, 9:53 am</td>\n",
       "      <td>Vikas Gupta</td>\n",
       "      <td>VOC Queue (Truebil)</td>\n",
       "    </tr>\n",
       "    <tr>\n",
       "      <th>1</th>\n",
       "      <td>20/01/2023, 6:14 pm</td>\n",
       "      <td>865408</td>\n",
       "      <td>Vikas Gupta</td>\n",
       "      <td>Dispositions</td>\n",
       "      <td>Repair in process at WS</td>\n",
       "      <td>Part ordered</td>\n",
       "      <td>21/01/2023, 6:39 pm</td>\n",
       "      <td>Vikas Gupta</td>\n",
       "      <td>VOC Queue (Truebil)</td>\n",
       "    </tr>\n",
       "    <tr>\n",
       "      <th>2</th>\n",
       "      <td>07/02/2023, 2:19 pm</td>\n",
       "      <td>914660</td>\n",
       "      <td>Jagan Sabavath</td>\n",
       "      <td>Dispositions</td>\n",
       "      <td>Pending with Refurb Team</td>\n",
       "      <td>Customer visit scheduled and WS_assigned</td>\n",
       "      <td>07/02/2023, 3:15 pm</td>\n",
       "      <td>Jagan Sabavath</td>\n",
       "      <td>VOC Queue (Truebil)</td>\n",
       "    </tr>\n",
       "  </tbody>\n",
       "</table>\n",
       "</div>"
      ],
      "text/plain": [
       "      Date/Time Opened  Ticket Number       Edited By Field / Event  \\\n",
       "0  01/01/2023, 9:53 am         819951           Ankit  Ticket Owner   \n",
       "1  20/01/2023, 6:14 pm         865408     Vikas Gupta  Dispositions   \n",
       "2  07/02/2023, 2:19 pm         914660  Jagan Sabavath  Dispositions   \n",
       "\n",
       "                  Old Value                                 New Value  \\\n",
       "0       VOC Queue (Truebil)                                     Ankit   \n",
       "1   Repair in process at WS                              Part ordered   \n",
       "2  Pending with Refurb Team  Customer visit scheduled and WS_assigned   \n",
       "\n",
       "             Edit Date    Ticket Owner        Ticket Origin  \n",
       "0  01/01/2023, 9:53 am     Vikas Gupta  VOC Queue (Truebil)  \n",
       "1  21/01/2023, 6:39 pm     Vikas Gupta  VOC Queue (Truebil)  \n",
       "2  07/02/2023, 3:15 pm  Jagan Sabavath  VOC Queue (Truebil)  "
      ]
     },
     "execution_count": 10,
     "metadata": {},
     "output_type": "execute_result"
    }
   ],
   "source": [
    "data.head(3)"
   ]
  },
  {
   "cell_type": "code",
   "execution_count": 11,
   "id": "0dc7547e",
   "metadata": {
    "scrolled": true
   },
   "outputs": [],
   "source": [
    "# pd.notnull(data['Date/Time Closed'])"
   ]
  },
  {
   "cell_type": "code",
   "execution_count": 12,
   "id": "a94d88f5",
   "metadata": {},
   "outputs": [],
   "source": [
    "data['Ticket Open Date/time'] = pd.to_datetime(data['Date/Time Opened'], dayfirst = True)\n",
    "data['Ticket Edit Date/time'] = pd.to_datetime(data['Edit Date'], dayfirst = True)"
   ]
  },
  {
   "cell_type": "code",
   "execution_count": 13,
   "id": "0292e59e",
   "metadata": {},
   "outputs": [],
   "source": [
    "data['Ticket Open date'] = data['Ticket Open Date/time'].dt.date"
   ]
  },
  {
   "cell_type": "code",
   "execution_count": 14,
   "id": "1f7830b9",
   "metadata": {},
   "outputs": [],
   "source": [
    "# data['Ticket Close date'] = data['Ticket Close Date/time'].dt.date"
   ]
  },
  {
   "cell_type": "code",
   "execution_count": 15,
   "id": "eb949b25",
   "metadata": {},
   "outputs": [],
   "source": [
    "# data['Ticket Close Date/time'].dtype"
   ]
  },
  {
   "cell_type": "code",
   "execution_count": 16,
   "id": "fdca5e5f",
   "metadata": {
    "scrolled": false
   },
   "outputs": [
    {
     "data": {
      "text/html": [
       "<div>\n",
       "<style scoped>\n",
       "    .dataframe tbody tr th:only-of-type {\n",
       "        vertical-align: middle;\n",
       "    }\n",
       "\n",
       "    .dataframe tbody tr th {\n",
       "        vertical-align: top;\n",
       "    }\n",
       "\n",
       "    .dataframe thead th {\n",
       "        text-align: right;\n",
       "    }\n",
       "</style>\n",
       "<table border=\"1\" class=\"dataframe\">\n",
       "  <thead>\n",
       "    <tr style=\"text-align: right;\">\n",
       "      <th></th>\n",
       "      <th>Date/Time Opened</th>\n",
       "      <th>Ticket Number</th>\n",
       "      <th>Edited By</th>\n",
       "      <th>Field / Event</th>\n",
       "      <th>Old Value</th>\n",
       "      <th>New Value</th>\n",
       "      <th>Edit Date</th>\n",
       "      <th>Ticket Owner</th>\n",
       "      <th>Ticket Origin</th>\n",
       "      <th>Ticket Open Date/time</th>\n",
       "      <th>Ticket Edit Date/time</th>\n",
       "      <th>Ticket Open date</th>\n",
       "    </tr>\n",
       "  </thead>\n",
       "  <tbody>\n",
       "    <tr>\n",
       "      <th>0</th>\n",
       "      <td>01/01/2023, 9:53 am</td>\n",
       "      <td>819951</td>\n",
       "      <td>Ankit</td>\n",
       "      <td>Ticket Owner</td>\n",
       "      <td>VOC Queue (Truebil)</td>\n",
       "      <td>Ankit</td>\n",
       "      <td>01/01/2023, 9:53 am</td>\n",
       "      <td>Vikas Gupta</td>\n",
       "      <td>VOC Queue (Truebil)</td>\n",
       "      <td>2023-01-01 09:53:00</td>\n",
       "      <td>2023-01-01 09:53:00</td>\n",
       "      <td>2023-01-01</td>\n",
       "    </tr>\n",
       "    <tr>\n",
       "      <th>1</th>\n",
       "      <td>20/01/2023, 6:14 pm</td>\n",
       "      <td>865408</td>\n",
       "      <td>Vikas Gupta</td>\n",
       "      <td>Dispositions</td>\n",
       "      <td>Repair in process at WS</td>\n",
       "      <td>Part ordered</td>\n",
       "      <td>21/01/2023, 6:39 pm</td>\n",
       "      <td>Vikas Gupta</td>\n",
       "      <td>VOC Queue (Truebil)</td>\n",
       "      <td>2023-01-20 18:14:00</td>\n",
       "      <td>2023-01-21 18:39:00</td>\n",
       "      <td>2023-01-20</td>\n",
       "    </tr>\n",
       "  </tbody>\n",
       "</table>\n",
       "</div>"
      ],
      "text/plain": [
       "      Date/Time Opened  Ticket Number    Edited By Field / Event  \\\n",
       "0  01/01/2023, 9:53 am         819951        Ankit  Ticket Owner   \n",
       "1  20/01/2023, 6:14 pm         865408  Vikas Gupta  Dispositions   \n",
       "\n",
       "                 Old Value     New Value            Edit Date Ticket Owner  \\\n",
       "0      VOC Queue (Truebil)         Ankit  01/01/2023, 9:53 am  Vikas Gupta   \n",
       "1  Repair in process at WS  Part ordered  21/01/2023, 6:39 pm  Vikas Gupta   \n",
       "\n",
       "         Ticket Origin Ticket Open Date/time Ticket Edit Date/time  \\\n",
       "0  VOC Queue (Truebil)   2023-01-01 09:53:00   2023-01-01 09:53:00   \n",
       "1  VOC Queue (Truebil)   2023-01-20 18:14:00   2023-01-21 18:39:00   \n",
       "\n",
       "  Ticket Open date  \n",
       "0       2023-01-01  \n",
       "1       2023-01-20  "
      ]
     },
     "execution_count": 16,
     "metadata": {},
     "output_type": "execute_result"
    }
   ],
   "source": [
    "data.head(2)"
   ]
  },
  {
   "cell_type": "code",
   "execution_count": 17,
   "id": "37311fb0",
   "metadata": {
    "scrolled": true
   },
   "outputs": [],
   "source": [
    "# data['Ticket Open Month'] = 0\n",
    "# data['Ticket Open Year'] = 0\n",
    "# data['Ticket Close Month'] = 0\n",
    "# data['Ticket Close Year'] = 0"
   ]
  },
  {
   "cell_type": "code",
   "execution_count": 18,
   "id": "d6b64523",
   "metadata": {},
   "outputs": [],
   "source": [
    "# data = data.fillna('')"
   ]
  },
  {
   "cell_type": "code",
   "execution_count": 19,
   "id": "1130c9be",
   "metadata": {
    "scrolled": false
   },
   "outputs": [],
   "source": [
    "# for i in range(len(data['Ticket Open date'])):\n",
    "#     if(i != 'NaT'):\n",
    "#         data['Ticket Open Month'][i] = data['Ticket Open date'][i].strftime(\"%m\")\n",
    "#         data['Ticket Open Year'][i] = data['Ticket Open date'][i].strftime(\"%Y\")"
   ]
  },
  {
   "cell_type": "code",
   "execution_count": 20,
   "id": "0842c4ba",
   "metadata": {
    "scrolled": true
   },
   "outputs": [
    {
     "data": {
      "text/html": [
       "<div>\n",
       "<style scoped>\n",
       "    .dataframe tbody tr th:only-of-type {\n",
       "        vertical-align: middle;\n",
       "    }\n",
       "\n",
       "    .dataframe tbody tr th {\n",
       "        vertical-align: top;\n",
       "    }\n",
       "\n",
       "    .dataframe thead th {\n",
       "        text-align: right;\n",
       "    }\n",
       "</style>\n",
       "<table border=\"1\" class=\"dataframe\">\n",
       "  <thead>\n",
       "    <tr style=\"text-align: right;\">\n",
       "      <th></th>\n",
       "      <th>Date/Time Opened</th>\n",
       "      <th>Ticket Number</th>\n",
       "      <th>Edited By</th>\n",
       "      <th>Field / Event</th>\n",
       "      <th>Old Value</th>\n",
       "      <th>New Value</th>\n",
       "      <th>Edit Date</th>\n",
       "      <th>Ticket Owner</th>\n",
       "      <th>Ticket Origin</th>\n",
       "      <th>Ticket Open Date/time</th>\n",
       "      <th>Ticket Edit Date/time</th>\n",
       "      <th>Ticket Open date</th>\n",
       "    </tr>\n",
       "  </thead>\n",
       "  <tbody>\n",
       "    <tr>\n",
       "      <th>0</th>\n",
       "      <td>01/01/2023, 9:53 am</td>\n",
       "      <td>819951</td>\n",
       "      <td>Ankit</td>\n",
       "      <td>Ticket Owner</td>\n",
       "      <td>VOC Queue (Truebil)</td>\n",
       "      <td>Ankit</td>\n",
       "      <td>01/01/2023, 9:53 am</td>\n",
       "      <td>Vikas Gupta</td>\n",
       "      <td>VOC Queue (Truebil)</td>\n",
       "      <td>2023-01-01 09:53:00</td>\n",
       "      <td>2023-01-01 09:53:00</td>\n",
       "      <td>2023-01-01</td>\n",
       "    </tr>\n",
       "    <tr>\n",
       "      <th>1</th>\n",
       "      <td>20/01/2023, 6:14 pm</td>\n",
       "      <td>865408</td>\n",
       "      <td>Vikas Gupta</td>\n",
       "      <td>Dispositions</td>\n",
       "      <td>Repair in process at WS</td>\n",
       "      <td>Part ordered</td>\n",
       "      <td>21/01/2023, 6:39 pm</td>\n",
       "      <td>Vikas Gupta</td>\n",
       "      <td>VOC Queue (Truebil)</td>\n",
       "      <td>2023-01-20 18:14:00</td>\n",
       "      <td>2023-01-21 18:39:00</td>\n",
       "      <td>2023-01-20</td>\n",
       "    </tr>\n",
       "    <tr>\n",
       "      <th>2</th>\n",
       "      <td>07/02/2023, 2:19 pm</td>\n",
       "      <td>914660</td>\n",
       "      <td>Jagan Sabavath</td>\n",
       "      <td>Dispositions</td>\n",
       "      <td>Pending with Refurb Team</td>\n",
       "      <td>Customer visit scheduled and WS_assigned</td>\n",
       "      <td>07/02/2023, 3:15 pm</td>\n",
       "      <td>Jagan Sabavath</td>\n",
       "      <td>VOC Queue (Truebil)</td>\n",
       "      <td>2023-02-07 14:19:00</td>\n",
       "      <td>2023-02-07 15:15:00</td>\n",
       "      <td>2023-02-07</td>\n",
       "    </tr>\n",
       "    <tr>\n",
       "      <th>3</th>\n",
       "      <td>01/01/2023, 9:53 am</td>\n",
       "      <td>819951</td>\n",
       "      <td>Mohit Sharma</td>\n",
       "      <td>Created.</td>\n",
       "      <td></td>\n",
       "      <td></td>\n",
       "      <td>01/01/2023, 9:53 am</td>\n",
       "      <td>Vikas Gupta</td>\n",
       "      <td>VOC Queue (Truebil)</td>\n",
       "      <td>2023-01-01 09:53:00</td>\n",
       "      <td>2023-01-01 09:53:00</td>\n",
       "      <td>2023-01-01</td>\n",
       "    </tr>\n",
       "    <tr>\n",
       "      <th>4</th>\n",
       "      <td>20/01/2023, 7:27 pm</td>\n",
       "      <td>865734</td>\n",
       "      <td>Shweta Kushwaha</td>\n",
       "      <td>Ticket Owner</td>\n",
       "      <td>VOC Queue (Truebil)</td>\n",
       "      <td>Shweta Kushwaha</td>\n",
       "      <td>20/01/2023, 7:27 pm</td>\n",
       "      <td>Faisal Ansari</td>\n",
       "      <td>VOC Queue (Truebil)</td>\n",
       "      <td>2023-01-20 19:27:00</td>\n",
       "      <td>2023-01-20 19:27:00</td>\n",
       "      <td>2023-01-20</td>\n",
       "    </tr>\n",
       "    <tr>\n",
       "      <th>...</th>\n",
       "      <td>...</td>\n",
       "      <td>...</td>\n",
       "      <td>...</td>\n",
       "      <td>...</td>\n",
       "      <td>...</td>\n",
       "      <td>...</td>\n",
       "      <td>...</td>\n",
       "      <td>...</td>\n",
       "      <td>...</td>\n",
       "      <td>...</td>\n",
       "      <td>...</td>\n",
       "      <td>...</td>\n",
       "    </tr>\n",
       "    <tr>\n",
       "      <th>35093</th>\n",
       "      <td>01/04/2023, 11:34 am</td>\n",
       "      <td>1065775</td>\n",
       "      <td>Ved Parkash</td>\n",
       "      <td>Dispositions</td>\n",
       "      <td></td>\n",
       "      <td>Pending with Refurb Team</td>\n",
       "      <td>01/04/2023, 11:41 am</td>\n",
       "      <td>Mithen Rai</td>\n",
       "      <td>webinbound_truebil</td>\n",
       "      <td>2023-04-01 11:34:00</td>\n",
       "      <td>2023-04-01 11:41:00</td>\n",
       "      <td>2023-04-01</td>\n",
       "    </tr>\n",
       "    <tr>\n",
       "      <th>35094</th>\n",
       "      <td>01/04/2023, 11:36 am</td>\n",
       "      <td>1065785</td>\n",
       "      <td>Mohit Sharma</td>\n",
       "      <td>Created.</td>\n",
       "      <td></td>\n",
       "      <td></td>\n",
       "      <td>01/04/2023, 11:36 am</td>\n",
       "      <td>Satyam Singh</td>\n",
       "      <td>Phone</td>\n",
       "      <td>2023-04-01 11:36:00</td>\n",
       "      <td>2023-04-01 11:36:00</td>\n",
       "      <td>2023-04-01</td>\n",
       "    </tr>\n",
       "    <tr>\n",
       "      <th>35095</th>\n",
       "      <td>01/04/2023, 11:36 am</td>\n",
       "      <td>1065785</td>\n",
       "      <td>Deepak Kantli</td>\n",
       "      <td>Ticket Owner</td>\n",
       "      <td>Mohit Sharma</td>\n",
       "      <td>Deepak Kantli</td>\n",
       "      <td>01/04/2023, 11:37 am</td>\n",
       "      <td>Satyam Singh</td>\n",
       "      <td>Phone</td>\n",
       "      <td>2023-04-01 11:36:00</td>\n",
       "      <td>2023-04-01 11:37:00</td>\n",
       "      <td>2023-04-01</td>\n",
       "    </tr>\n",
       "    <tr>\n",
       "      <th>35096</th>\n",
       "      <td>01/04/2023, 11:36 am</td>\n",
       "      <td>1065785</td>\n",
       "      <td>Deepak Kantli</td>\n",
       "      <td>Dispositions</td>\n",
       "      <td></td>\n",
       "      <td>Pending with Refurb Team</td>\n",
       "      <td>01/04/2023, 11:39 am</td>\n",
       "      <td>Satyam Singh</td>\n",
       "      <td>Phone</td>\n",
       "      <td>2023-04-01 11:36:00</td>\n",
       "      <td>2023-04-01 11:39:00</td>\n",
       "      <td>2023-04-01</td>\n",
       "    </tr>\n",
       "    <tr>\n",
       "      <th>35097</th>\n",
       "      <td>01/04/2023, 11:36 am</td>\n",
       "      <td>1065785</td>\n",
       "      <td>Deepak Kantli</td>\n",
       "      <td>Ticket Owner</td>\n",
       "      <td>Deepak Kantli</td>\n",
       "      <td>Satyam Singh</td>\n",
       "      <td>01/04/2023, 11:41 am</td>\n",
       "      <td>Satyam Singh</td>\n",
       "      <td>Phone</td>\n",
       "      <td>2023-04-01 11:36:00</td>\n",
       "      <td>2023-04-01 11:41:00</td>\n",
       "      <td>2023-04-01</td>\n",
       "    </tr>\n",
       "  </tbody>\n",
       "</table>\n",
       "<p>35098 rows × 12 columns</p>\n",
       "</div>"
      ],
      "text/plain": [
       "           Date/Time Opened  Ticket Number        Edited By Field / Event  \\\n",
       "0       01/01/2023, 9:53 am         819951            Ankit  Ticket Owner   \n",
       "1       20/01/2023, 6:14 pm         865408      Vikas Gupta  Dispositions   \n",
       "2       07/02/2023, 2:19 pm         914660   Jagan Sabavath  Dispositions   \n",
       "3       01/01/2023, 9:53 am         819951     Mohit Sharma      Created.   \n",
       "4       20/01/2023, 7:27 pm         865734  Shweta Kushwaha  Ticket Owner   \n",
       "...                     ...            ...              ...           ...   \n",
       "35093  01/04/2023, 11:34 am        1065775      Ved Parkash  Dispositions   \n",
       "35094  01/04/2023, 11:36 am        1065785     Mohit Sharma      Created.   \n",
       "35095  01/04/2023, 11:36 am        1065785    Deepak Kantli  Ticket Owner   \n",
       "35096  01/04/2023, 11:36 am        1065785    Deepak Kantli  Dispositions   \n",
       "35097  01/04/2023, 11:36 am        1065785    Deepak Kantli  Ticket Owner   \n",
       "\n",
       "                      Old Value                                 New Value  \\\n",
       "0           VOC Queue (Truebil)                                     Ankit   \n",
       "1       Repair in process at WS                              Part ordered   \n",
       "2      Pending with Refurb Team  Customer visit scheduled and WS_assigned   \n",
       "3                                                                           \n",
       "4           VOC Queue (Truebil)                           Shweta Kushwaha   \n",
       "...                         ...                                       ...   \n",
       "35093                                            Pending with Refurb Team   \n",
       "35094                                                                       \n",
       "35095              Mohit Sharma                             Deepak Kantli   \n",
       "35096                                            Pending with Refurb Team   \n",
       "35097             Deepak Kantli                              Satyam Singh   \n",
       "\n",
       "                  Edit Date    Ticket Owner        Ticket Origin  \\\n",
       "0       01/01/2023, 9:53 am     Vikas Gupta  VOC Queue (Truebil)   \n",
       "1       21/01/2023, 6:39 pm     Vikas Gupta  VOC Queue (Truebil)   \n",
       "2       07/02/2023, 3:15 pm  Jagan Sabavath  VOC Queue (Truebil)   \n",
       "3       01/01/2023, 9:53 am     Vikas Gupta  VOC Queue (Truebil)   \n",
       "4       20/01/2023, 7:27 pm   Faisal Ansari  VOC Queue (Truebil)   \n",
       "...                     ...             ...                  ...   \n",
       "35093  01/04/2023, 11:41 am      Mithen Rai   webinbound_truebil   \n",
       "35094  01/04/2023, 11:36 am    Satyam Singh                Phone   \n",
       "35095  01/04/2023, 11:37 am    Satyam Singh                Phone   \n",
       "35096  01/04/2023, 11:39 am    Satyam Singh                Phone   \n",
       "35097  01/04/2023, 11:41 am    Satyam Singh                Phone   \n",
       "\n",
       "      Ticket Open Date/time Ticket Edit Date/time Ticket Open date  \n",
       "0       2023-01-01 09:53:00   2023-01-01 09:53:00       2023-01-01  \n",
       "1       2023-01-20 18:14:00   2023-01-21 18:39:00       2023-01-20  \n",
       "2       2023-02-07 14:19:00   2023-02-07 15:15:00       2023-02-07  \n",
       "3       2023-01-01 09:53:00   2023-01-01 09:53:00       2023-01-01  \n",
       "4       2023-01-20 19:27:00   2023-01-20 19:27:00       2023-01-20  \n",
       "...                     ...                   ...              ...  \n",
       "35093   2023-04-01 11:34:00   2023-04-01 11:41:00       2023-04-01  \n",
       "35094   2023-04-01 11:36:00   2023-04-01 11:36:00       2023-04-01  \n",
       "35095   2023-04-01 11:36:00   2023-04-01 11:37:00       2023-04-01  \n",
       "35096   2023-04-01 11:36:00   2023-04-01 11:39:00       2023-04-01  \n",
       "35097   2023-04-01 11:36:00   2023-04-01 11:41:00       2023-04-01  \n",
       "\n",
       "[35098 rows x 12 columns]"
      ]
     },
     "execution_count": 20,
     "metadata": {},
     "output_type": "execute_result"
    }
   ],
   "source": [
    "data"
   ]
  },
  {
   "cell_type": "code",
   "execution_count": 21,
   "id": "b7332cbb",
   "metadata": {
    "scrolled": true
   },
   "outputs": [],
   "source": [
    "# data['Ticket Close date'].value_counts()"
   ]
  },
  {
   "cell_type": "code",
   "execution_count": 22,
   "id": "7c4ee624",
   "metadata": {
    "scrolled": true
   },
   "outputs": [],
   "source": [
    "# pd.to_datetime(data['Ticket Close date'])"
   ]
  },
  {
   "cell_type": "code",
   "execution_count": 23,
   "id": "fd513593",
   "metadata": {},
   "outputs": [],
   "source": [
    "# df = data.loc[data['Ticket Close date'].isnull()]"
   ]
  },
  {
   "cell_type": "code",
   "execution_count": 24,
   "id": "747c8c93",
   "metadata": {},
   "outputs": [],
   "source": [
    "# df.shape"
   ]
  },
  {
   "cell_type": "code",
   "execution_count": 25,
   "id": "3e811711",
   "metadata": {
    "scrolled": true
   },
   "outputs": [],
   "source": [
    "# data[pd.notnull(data['Ticket Close date'])]"
   ]
  },
  {
   "cell_type": "code",
   "execution_count": 26,
   "id": "9a5f636e",
   "metadata": {
    "scrolled": true
   },
   "outputs": [],
   "source": [
    "# data['Ticket Close date'].dtype"
   ]
  },
  {
   "cell_type": "code",
   "execution_count": 27,
   "id": "0093b93f",
   "metadata": {
    "scrolled": true
   },
   "outputs": [],
   "source": [
    "# import pandas as pd\n",
    "# import numpy as np\n",
    "# # Iterate over the 'date' column and extract the month values\n",
    "# month_list = []\n",
    "# for date_str in data['Ticket Close date']:\n",
    "#     if pd.isna(date_str):\n",
    "#         month_list.append(np.nan)\n",
    "#     else:\n",
    "#         dt_obj = pd.to_datetime(date_str, errors='coerce')\n",
    "#         if dt_obj is pd.NaT:\n",
    "#             month_list.append(np.nan)\n",
    "#         else:\n",
    "#             month_list.append(dt_obj.month)\n",
    "# data['Ticket Close Month'] = month_list"
   ]
  },
  {
   "cell_type": "code",
   "execution_count": 28,
   "id": "5870ba9d",
   "metadata": {
    "scrolled": true
   },
   "outputs": [],
   "source": [
    "# data['Ticket Close Month'] = data['Ticket Close Month'].abs().astype(int)"
   ]
  },
  {
   "cell_type": "code",
   "execution_count": 29,
   "id": "b66d5ee2",
   "metadata": {},
   "outputs": [],
   "source": [
    "# type(month_list)"
   ]
  },
  {
   "cell_type": "code",
   "execution_count": 30,
   "id": "316ac1f9",
   "metadata": {},
   "outputs": [],
   "source": [
    "# import pandas as pd\n",
    "# import numpy as np\n",
    "# # Iterate over the 'date' column and extract the month values\n",
    "# year_list = []\n",
    "# for date_str in data['Ticket Close date']:\n",
    "#     if pd.isna(date_str):\n",
    "#         year_list.append(np.nan)\n",
    "#     else:\n",
    "#         dt_obj = pd.to_datetime(date_str, errors='coerce')\n",
    "#         if dt_obj is pd.NaT:\n",
    "#             year_list.append(np.nan)\n",
    "#         else:\n",
    "#             year_list.append(dt_obj.year)\n",
    "# data['Ticket Close Year'] = year_list"
   ]
  },
  {
   "cell_type": "code",
   "execution_count": 31,
   "id": "c48a029a",
   "metadata": {
    "scrolled": true
   },
   "outputs": [
    {
     "data": {
      "text/html": [
       "<div>\n",
       "<style scoped>\n",
       "    .dataframe tbody tr th:only-of-type {\n",
       "        vertical-align: middle;\n",
       "    }\n",
       "\n",
       "    .dataframe tbody tr th {\n",
       "        vertical-align: top;\n",
       "    }\n",
       "\n",
       "    .dataframe thead th {\n",
       "        text-align: right;\n",
       "    }\n",
       "</style>\n",
       "<table border=\"1\" class=\"dataframe\">\n",
       "  <thead>\n",
       "    <tr style=\"text-align: right;\">\n",
       "      <th></th>\n",
       "      <th>Date/Time Opened</th>\n",
       "      <th>Ticket Number</th>\n",
       "      <th>Edited By</th>\n",
       "      <th>Field / Event</th>\n",
       "      <th>Old Value</th>\n",
       "      <th>New Value</th>\n",
       "      <th>Edit Date</th>\n",
       "      <th>Ticket Owner</th>\n",
       "      <th>Ticket Origin</th>\n",
       "      <th>Ticket Open Date/time</th>\n",
       "      <th>Ticket Edit Date/time</th>\n",
       "      <th>Ticket Open date</th>\n",
       "    </tr>\n",
       "  </thead>\n",
       "  <tbody>\n",
       "    <tr>\n",
       "      <th>0</th>\n",
       "      <td>01/01/2023, 9:53 am</td>\n",
       "      <td>819951</td>\n",
       "      <td>Ankit</td>\n",
       "      <td>Ticket Owner</td>\n",
       "      <td>VOC Queue (Truebil)</td>\n",
       "      <td>Ankit</td>\n",
       "      <td>01/01/2023, 9:53 am</td>\n",
       "      <td>Vikas Gupta</td>\n",
       "      <td>VOC Queue (Truebil)</td>\n",
       "      <td>2023-01-01 09:53:00</td>\n",
       "      <td>2023-01-01 09:53:00</td>\n",
       "      <td>2023-01-01</td>\n",
       "    </tr>\n",
       "    <tr>\n",
       "      <th>1</th>\n",
       "      <td>20/01/2023, 6:14 pm</td>\n",
       "      <td>865408</td>\n",
       "      <td>Vikas Gupta</td>\n",
       "      <td>Dispositions</td>\n",
       "      <td>Repair in process at WS</td>\n",
       "      <td>Part ordered</td>\n",
       "      <td>21/01/2023, 6:39 pm</td>\n",
       "      <td>Vikas Gupta</td>\n",
       "      <td>VOC Queue (Truebil)</td>\n",
       "      <td>2023-01-20 18:14:00</td>\n",
       "      <td>2023-01-21 18:39:00</td>\n",
       "      <td>2023-01-20</td>\n",
       "    </tr>\n",
       "    <tr>\n",
       "      <th>2</th>\n",
       "      <td>07/02/2023, 2:19 pm</td>\n",
       "      <td>914660</td>\n",
       "      <td>Jagan Sabavath</td>\n",
       "      <td>Dispositions</td>\n",
       "      <td>Pending with Refurb Team</td>\n",
       "      <td>Customer visit scheduled and WS_assigned</td>\n",
       "      <td>07/02/2023, 3:15 pm</td>\n",
       "      <td>Jagan Sabavath</td>\n",
       "      <td>VOC Queue (Truebil)</td>\n",
       "      <td>2023-02-07 14:19:00</td>\n",
       "      <td>2023-02-07 15:15:00</td>\n",
       "      <td>2023-02-07</td>\n",
       "    </tr>\n",
       "    <tr>\n",
       "      <th>3</th>\n",
       "      <td>01/01/2023, 9:53 am</td>\n",
       "      <td>819951</td>\n",
       "      <td>Mohit Sharma</td>\n",
       "      <td>Created.</td>\n",
       "      <td></td>\n",
       "      <td></td>\n",
       "      <td>01/01/2023, 9:53 am</td>\n",
       "      <td>Vikas Gupta</td>\n",
       "      <td>VOC Queue (Truebil)</td>\n",
       "      <td>2023-01-01 09:53:00</td>\n",
       "      <td>2023-01-01 09:53:00</td>\n",
       "      <td>2023-01-01</td>\n",
       "    </tr>\n",
       "    <tr>\n",
       "      <th>4</th>\n",
       "      <td>20/01/2023, 7:27 pm</td>\n",
       "      <td>865734</td>\n",
       "      <td>Shweta Kushwaha</td>\n",
       "      <td>Ticket Owner</td>\n",
       "      <td>VOC Queue (Truebil)</td>\n",
       "      <td>Shweta Kushwaha</td>\n",
       "      <td>20/01/2023, 7:27 pm</td>\n",
       "      <td>Faisal Ansari</td>\n",
       "      <td>VOC Queue (Truebil)</td>\n",
       "      <td>2023-01-20 19:27:00</td>\n",
       "      <td>2023-01-20 19:27:00</td>\n",
       "      <td>2023-01-20</td>\n",
       "    </tr>\n",
       "    <tr>\n",
       "      <th>...</th>\n",
       "      <td>...</td>\n",
       "      <td>...</td>\n",
       "      <td>...</td>\n",
       "      <td>...</td>\n",
       "      <td>...</td>\n",
       "      <td>...</td>\n",
       "      <td>...</td>\n",
       "      <td>...</td>\n",
       "      <td>...</td>\n",
       "      <td>...</td>\n",
       "      <td>...</td>\n",
       "      <td>...</td>\n",
       "    </tr>\n",
       "    <tr>\n",
       "      <th>35093</th>\n",
       "      <td>01/04/2023, 11:34 am</td>\n",
       "      <td>1065775</td>\n",
       "      <td>Ved Parkash</td>\n",
       "      <td>Dispositions</td>\n",
       "      <td></td>\n",
       "      <td>Pending with Refurb Team</td>\n",
       "      <td>01/04/2023, 11:41 am</td>\n",
       "      <td>Mithen Rai</td>\n",
       "      <td>webinbound_truebil</td>\n",
       "      <td>2023-04-01 11:34:00</td>\n",
       "      <td>2023-04-01 11:41:00</td>\n",
       "      <td>2023-04-01</td>\n",
       "    </tr>\n",
       "    <tr>\n",
       "      <th>35094</th>\n",
       "      <td>01/04/2023, 11:36 am</td>\n",
       "      <td>1065785</td>\n",
       "      <td>Mohit Sharma</td>\n",
       "      <td>Created.</td>\n",
       "      <td></td>\n",
       "      <td></td>\n",
       "      <td>01/04/2023, 11:36 am</td>\n",
       "      <td>Satyam Singh</td>\n",
       "      <td>Phone</td>\n",
       "      <td>2023-04-01 11:36:00</td>\n",
       "      <td>2023-04-01 11:36:00</td>\n",
       "      <td>2023-04-01</td>\n",
       "    </tr>\n",
       "    <tr>\n",
       "      <th>35095</th>\n",
       "      <td>01/04/2023, 11:36 am</td>\n",
       "      <td>1065785</td>\n",
       "      <td>Deepak Kantli</td>\n",
       "      <td>Ticket Owner</td>\n",
       "      <td>Mohit Sharma</td>\n",
       "      <td>Deepak Kantli</td>\n",
       "      <td>01/04/2023, 11:37 am</td>\n",
       "      <td>Satyam Singh</td>\n",
       "      <td>Phone</td>\n",
       "      <td>2023-04-01 11:36:00</td>\n",
       "      <td>2023-04-01 11:37:00</td>\n",
       "      <td>2023-04-01</td>\n",
       "    </tr>\n",
       "    <tr>\n",
       "      <th>35096</th>\n",
       "      <td>01/04/2023, 11:36 am</td>\n",
       "      <td>1065785</td>\n",
       "      <td>Deepak Kantli</td>\n",
       "      <td>Dispositions</td>\n",
       "      <td></td>\n",
       "      <td>Pending with Refurb Team</td>\n",
       "      <td>01/04/2023, 11:39 am</td>\n",
       "      <td>Satyam Singh</td>\n",
       "      <td>Phone</td>\n",
       "      <td>2023-04-01 11:36:00</td>\n",
       "      <td>2023-04-01 11:39:00</td>\n",
       "      <td>2023-04-01</td>\n",
       "    </tr>\n",
       "    <tr>\n",
       "      <th>35097</th>\n",
       "      <td>01/04/2023, 11:36 am</td>\n",
       "      <td>1065785</td>\n",
       "      <td>Deepak Kantli</td>\n",
       "      <td>Ticket Owner</td>\n",
       "      <td>Deepak Kantli</td>\n",
       "      <td>Satyam Singh</td>\n",
       "      <td>01/04/2023, 11:41 am</td>\n",
       "      <td>Satyam Singh</td>\n",
       "      <td>Phone</td>\n",
       "      <td>2023-04-01 11:36:00</td>\n",
       "      <td>2023-04-01 11:41:00</td>\n",
       "      <td>2023-04-01</td>\n",
       "    </tr>\n",
       "  </tbody>\n",
       "</table>\n",
       "<p>35098 rows × 12 columns</p>\n",
       "</div>"
      ],
      "text/plain": [
       "           Date/Time Opened  Ticket Number        Edited By Field / Event  \\\n",
       "0       01/01/2023, 9:53 am         819951            Ankit  Ticket Owner   \n",
       "1       20/01/2023, 6:14 pm         865408      Vikas Gupta  Dispositions   \n",
       "2       07/02/2023, 2:19 pm         914660   Jagan Sabavath  Dispositions   \n",
       "3       01/01/2023, 9:53 am         819951     Mohit Sharma      Created.   \n",
       "4       20/01/2023, 7:27 pm         865734  Shweta Kushwaha  Ticket Owner   \n",
       "...                     ...            ...              ...           ...   \n",
       "35093  01/04/2023, 11:34 am        1065775      Ved Parkash  Dispositions   \n",
       "35094  01/04/2023, 11:36 am        1065785     Mohit Sharma      Created.   \n",
       "35095  01/04/2023, 11:36 am        1065785    Deepak Kantli  Ticket Owner   \n",
       "35096  01/04/2023, 11:36 am        1065785    Deepak Kantli  Dispositions   \n",
       "35097  01/04/2023, 11:36 am        1065785    Deepak Kantli  Ticket Owner   \n",
       "\n",
       "                      Old Value                                 New Value  \\\n",
       "0           VOC Queue (Truebil)                                     Ankit   \n",
       "1       Repair in process at WS                              Part ordered   \n",
       "2      Pending with Refurb Team  Customer visit scheduled and WS_assigned   \n",
       "3                                                                           \n",
       "4           VOC Queue (Truebil)                           Shweta Kushwaha   \n",
       "...                         ...                                       ...   \n",
       "35093                                            Pending with Refurb Team   \n",
       "35094                                                                       \n",
       "35095              Mohit Sharma                             Deepak Kantli   \n",
       "35096                                            Pending with Refurb Team   \n",
       "35097             Deepak Kantli                              Satyam Singh   \n",
       "\n",
       "                  Edit Date    Ticket Owner        Ticket Origin  \\\n",
       "0       01/01/2023, 9:53 am     Vikas Gupta  VOC Queue (Truebil)   \n",
       "1       21/01/2023, 6:39 pm     Vikas Gupta  VOC Queue (Truebil)   \n",
       "2       07/02/2023, 3:15 pm  Jagan Sabavath  VOC Queue (Truebil)   \n",
       "3       01/01/2023, 9:53 am     Vikas Gupta  VOC Queue (Truebil)   \n",
       "4       20/01/2023, 7:27 pm   Faisal Ansari  VOC Queue (Truebil)   \n",
       "...                     ...             ...                  ...   \n",
       "35093  01/04/2023, 11:41 am      Mithen Rai   webinbound_truebil   \n",
       "35094  01/04/2023, 11:36 am    Satyam Singh                Phone   \n",
       "35095  01/04/2023, 11:37 am    Satyam Singh                Phone   \n",
       "35096  01/04/2023, 11:39 am    Satyam Singh                Phone   \n",
       "35097  01/04/2023, 11:41 am    Satyam Singh                Phone   \n",
       "\n",
       "      Ticket Open Date/time Ticket Edit Date/time Ticket Open date  \n",
       "0       2023-01-01 09:53:00   2023-01-01 09:53:00       2023-01-01  \n",
       "1       2023-01-20 18:14:00   2023-01-21 18:39:00       2023-01-20  \n",
       "2       2023-02-07 14:19:00   2023-02-07 15:15:00       2023-02-07  \n",
       "3       2023-01-01 09:53:00   2023-01-01 09:53:00       2023-01-01  \n",
       "4       2023-01-20 19:27:00   2023-01-20 19:27:00       2023-01-20  \n",
       "...                     ...                   ...              ...  \n",
       "35093   2023-04-01 11:34:00   2023-04-01 11:41:00       2023-04-01  \n",
       "35094   2023-04-01 11:36:00   2023-04-01 11:36:00       2023-04-01  \n",
       "35095   2023-04-01 11:36:00   2023-04-01 11:37:00       2023-04-01  \n",
       "35096   2023-04-01 11:36:00   2023-04-01 11:39:00       2023-04-01  \n",
       "35097   2023-04-01 11:36:00   2023-04-01 11:41:00       2023-04-01  \n",
       "\n",
       "[35098 rows x 12 columns]"
      ]
     },
     "execution_count": 31,
     "metadata": {},
     "output_type": "execute_result"
    }
   ],
   "source": [
    "data"
   ]
  },
  {
   "cell_type": "code",
   "execution_count": 32,
   "id": "6dbec3b7",
   "metadata": {
    "scrolled": true
   },
   "outputs": [],
   "source": [
    "# data['Car Delivery Date/Time'] = pd.to_datetime(data['Car Delivery Date'], dayfirst = True)"
   ]
  },
  {
   "cell_type": "code",
   "execution_count": 33,
   "id": "8939e744",
   "metadata": {},
   "outputs": [],
   "source": [
    "# data['Car Delivery Date_Fin'] = data['Car Delivery Date/Time'].dt.date"
   ]
  },
  {
   "cell_type": "code",
   "execution_count": 34,
   "id": "f2287e1c",
   "metadata": {
    "scrolled": true
   },
   "outputs": [],
   "source": [
    "# data['Car Delivery Date_Final'] = data['Car Delivery Date/time'].dt.date"
   ]
  },
  {
   "cell_type": "code",
   "execution_count": 35,
   "id": "fb0d5b8c",
   "metadata": {},
   "outputs": [],
   "source": [
    "# for i in range(len(data['Car Delivery Date'])):\n",
    "#     data['Car Delivery Month'][i] = data['Car Delivery Date'][i].strftime(\"%m\")\n",
    "#     data['Car Delivery Year'][i] = data['Car Delivery Date'][i].strftime(\"%Y\")"
   ]
  },
  {
   "cell_type": "code",
   "execution_count": 36,
   "id": "8e619fb2",
   "metadata": {
    "scrolled": true
   },
   "outputs": [
    {
     "data": {
      "text/html": [
       "<div>\n",
       "<style scoped>\n",
       "    .dataframe tbody tr th:only-of-type {\n",
       "        vertical-align: middle;\n",
       "    }\n",
       "\n",
       "    .dataframe tbody tr th {\n",
       "        vertical-align: top;\n",
       "    }\n",
       "\n",
       "    .dataframe thead th {\n",
       "        text-align: right;\n",
       "    }\n",
       "</style>\n",
       "<table border=\"1\" class=\"dataframe\">\n",
       "  <thead>\n",
       "    <tr style=\"text-align: right;\">\n",
       "      <th></th>\n",
       "      <th>Date/Time Opened</th>\n",
       "      <th>Ticket Number</th>\n",
       "      <th>Edited By</th>\n",
       "      <th>Field / Event</th>\n",
       "      <th>Old Value</th>\n",
       "      <th>New Value</th>\n",
       "      <th>Edit Date</th>\n",
       "      <th>Ticket Owner</th>\n",
       "      <th>Ticket Origin</th>\n",
       "      <th>Ticket Open Date/time</th>\n",
       "      <th>Ticket Edit Date/time</th>\n",
       "      <th>Ticket Open date</th>\n",
       "    </tr>\n",
       "  </thead>\n",
       "  <tbody>\n",
       "    <tr>\n",
       "      <th>0</th>\n",
       "      <td>01/01/2023, 9:53 am</td>\n",
       "      <td>819951</td>\n",
       "      <td>Ankit</td>\n",
       "      <td>Ticket Owner</td>\n",
       "      <td>VOC Queue (Truebil)</td>\n",
       "      <td>Ankit</td>\n",
       "      <td>01/01/2023, 9:53 am</td>\n",
       "      <td>Vikas Gupta</td>\n",
       "      <td>VOC Queue (Truebil)</td>\n",
       "      <td>2023-01-01 09:53:00</td>\n",
       "      <td>2023-01-01 09:53:00</td>\n",
       "      <td>2023-01-01</td>\n",
       "    </tr>\n",
       "    <tr>\n",
       "      <th>1</th>\n",
       "      <td>20/01/2023, 6:14 pm</td>\n",
       "      <td>865408</td>\n",
       "      <td>Vikas Gupta</td>\n",
       "      <td>Dispositions</td>\n",
       "      <td>Repair in process at WS</td>\n",
       "      <td>Part ordered</td>\n",
       "      <td>21/01/2023, 6:39 pm</td>\n",
       "      <td>Vikas Gupta</td>\n",
       "      <td>VOC Queue (Truebil)</td>\n",
       "      <td>2023-01-20 18:14:00</td>\n",
       "      <td>2023-01-21 18:39:00</td>\n",
       "      <td>2023-01-20</td>\n",
       "    </tr>\n",
       "    <tr>\n",
       "      <th>2</th>\n",
       "      <td>07/02/2023, 2:19 pm</td>\n",
       "      <td>914660</td>\n",
       "      <td>Jagan Sabavath</td>\n",
       "      <td>Dispositions</td>\n",
       "      <td>Pending with Refurb Team</td>\n",
       "      <td>Customer visit scheduled and WS_assigned</td>\n",
       "      <td>07/02/2023, 3:15 pm</td>\n",
       "      <td>Jagan Sabavath</td>\n",
       "      <td>VOC Queue (Truebil)</td>\n",
       "      <td>2023-02-07 14:19:00</td>\n",
       "      <td>2023-02-07 15:15:00</td>\n",
       "      <td>2023-02-07</td>\n",
       "    </tr>\n",
       "  </tbody>\n",
       "</table>\n",
       "</div>"
      ],
      "text/plain": [
       "      Date/Time Opened  Ticket Number       Edited By Field / Event  \\\n",
       "0  01/01/2023, 9:53 am         819951           Ankit  Ticket Owner   \n",
       "1  20/01/2023, 6:14 pm         865408     Vikas Gupta  Dispositions   \n",
       "2  07/02/2023, 2:19 pm         914660  Jagan Sabavath  Dispositions   \n",
       "\n",
       "                  Old Value                                 New Value  \\\n",
       "0       VOC Queue (Truebil)                                     Ankit   \n",
       "1   Repair in process at WS                              Part ordered   \n",
       "2  Pending with Refurb Team  Customer visit scheduled and WS_assigned   \n",
       "\n",
       "             Edit Date    Ticket Owner        Ticket Origin  \\\n",
       "0  01/01/2023, 9:53 am     Vikas Gupta  VOC Queue (Truebil)   \n",
       "1  21/01/2023, 6:39 pm     Vikas Gupta  VOC Queue (Truebil)   \n",
       "2  07/02/2023, 3:15 pm  Jagan Sabavath  VOC Queue (Truebil)   \n",
       "\n",
       "  Ticket Open Date/time Ticket Edit Date/time Ticket Open date  \n",
       "0   2023-01-01 09:53:00   2023-01-01 09:53:00       2023-01-01  \n",
       "1   2023-01-20 18:14:00   2023-01-21 18:39:00       2023-01-20  \n",
       "2   2023-02-07 14:19:00   2023-02-07 15:15:00       2023-02-07  "
      ]
     },
     "execution_count": 36,
     "metadata": {},
     "output_type": "execute_result"
    }
   ],
   "source": [
    "data.head(3)"
   ]
  },
  {
   "cell_type": "code",
   "execution_count": 37,
   "id": "68853615",
   "metadata": {},
   "outputs": [],
   "source": [
    "data.to_csv('bcm_frt.csv', index = False)"
   ]
  },
  {
   "cell_type": "code",
   "execution_count": 38,
   "id": "f075bfbb",
   "metadata": {},
   "outputs": [
    {
     "data": {
      "text/plain": [
       "Index(['Date/Time Opened', 'Ticket Number', 'Edited By', 'Field / Event',\n",
       "       'Old Value', 'New Value', 'Edit Date', 'Ticket Owner', 'Ticket Origin',\n",
       "       'Ticket Open Date/time', 'Ticket Edit Date/time', 'Ticket Open date'],\n",
       "      dtype='object')"
      ]
     },
     "execution_count": 38,
     "metadata": {},
     "output_type": "execute_result"
    }
   ],
   "source": [
    "data.columns"
   ]
  }
 ],
 "metadata": {
  "kernelspec": {
   "display_name": "Python 3 (ipykernel)",
   "language": "python",
   "name": "python3"
  },
  "language_info": {
   "codemirror_mode": {
    "name": "ipython",
    "version": 3
   },
   "file_extension": ".py",
   "mimetype": "text/x-python",
   "name": "python",
   "nbconvert_exporter": "python",
   "pygments_lexer": "ipython3",
   "version": "3.9.13"
  }
 },
 "nbformat": 4,
 "nbformat_minor": 5
}
